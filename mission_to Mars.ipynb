{
 "cells": [
  {
   "cell_type": "code",
   "execution_count": 107,
   "id": "15445f87-4f20-4e07-b643-00f333672d3a",
   "metadata": {},
   "outputs": [],
   "source": [
    "# Import dependenices\n",
    "from bs4 import BeautifulSoup as bs\n",
    "import requests\n",
    "from splinter import Browser\n",
    "from webdriver_manager.chrome import ChromeDriverManager\n",
    "import pandas as pd\n",
    "import pymongo"
   ]
  },
  {
   "cell_type": "code",
   "execution_count": 108,
   "id": "80833bd6-da35-4781-abdb-a70e278ee807",
   "metadata": {},
   "outputs": [
    {
     "name": "stderr",
     "output_type": "stream",
     "text": [
      "\n",
      "\n",
      "====== WebDriver manager ======\n",
      "Current google-chrome version is 97.0.4692\n",
      "Get LATEST chromedriver version for 97.0.4692 google-chrome\n",
      "Driver [C:\\Users\\User\\.wdm\\drivers\\chromedriver\\win32\\97.0.4692.71\\chromedriver.exe] found in cache\n"
     ]
    }
   ],
   "source": [
    "# Create executable path to open a browser for the scraping: using WebDriver Manager\n",
    "executable_path = {'executable_path': ChromeDriverManager().install()}\n",
    "browser = Browser('chrome', **executable_path, headless=False)"
   ]
  },
  {
   "cell_type": "markdown",
   "id": "4d717227-63e3-4ee9-b56f-72f5ebbf8da0",
   "metadata": {},
   "source": [
    "## Mars News"
   ]
  },
  {
   "cell_type": "code",
   "execution_count": 109,
   "id": "403a7458-b195-41cb-a12d-68fac15a9efd",
   "metadata": {},
   "outputs": [],
   "source": [
    "# Define the url and visit website\n",
    "url = 'https://redplanetscience.com/'\n",
    "browser.visit(url)"
   ]
  },
  {
   "cell_type": "code",
   "execution_count": 110,
   "id": "310cfd6a-a5bd-402a-8a3c-f0222259f2af",
   "metadata": {},
   "outputs": [
    {
     "name": "stdout",
     "output_type": "stream",
     "text": [
      "NASA's Mars Perseverance Rover Passes Flight Readiness Review\n",
      "​The agency's Mars 2020 mission has one more big prelaunch review – the Launch Readiness Review, on July 27.\n"
     ]
    }
   ],
   "source": [
    "# Iterate once to find the container, and then the latest news title and paragraph\n",
    "html = browser.html\n",
    "soup = bs(html, 'html.parser')\n",
    "    \n",
    "# Grab the title and paragraph text\n",
    "news_title = soup.find('div', class_='content_title').text\n",
    "news_p = soup.find('div', class_='article_teaser_body').text\n",
    "    \n",
    "print(news_title)\n",
    "print(news_p)"
   ]
  },
  {
   "cell_type": "markdown",
   "id": "10bc6550-987c-4438-bb9e-0279c8ce7c67",
   "metadata": {},
   "source": [
    "## Scrape Mars Data: Featured Image"
   ]
  },
  {
   "cell_type": "code",
   "execution_count": 111,
   "id": "024ec004-f753-489b-852f-67c8a3f8ad90",
   "metadata": {},
   "outputs": [],
   "source": [
    "# Define the url and visit the website\n",
    "url = 'https://spaceimages-mars.com/'\n",
    "browser.visit(url)"
   ]
  },
  {
   "cell_type": "code",
   "execution_count": 112,
   "id": "d586728b-8a52-465a-b839-bc5f4873d621",
   "metadata": {},
   "outputs": [
    {
     "name": "stdout",
     "output_type": "stream",
     "text": [
      "https://spaceimages-mars.com/image/featured/mars1.jpg\n"
     ]
    }
   ],
   "source": [
    "# Find the url for the latest featured image\n",
    "html = browser.html\n",
    "soup = bs(html, 'html.parser')\n",
    "\n",
    "# Parse the resulting html with soup\n",
    "html = browser.html\n",
    "soup = bs(html, 'html.parser')\n",
    "\n",
    "href = soup.find('img', class_='headerimage')['src']\n",
    "featured_image_url = 'https://spaceimages-mars.com/' + href\n",
    "    \n",
    "print(featured_image_url)"
   ]
  },
  {
   "cell_type": "markdown",
   "id": "a15a2232-a02b-4b99-a91b-a6714c7e5a09",
   "metadata": {},
   "source": [
    "## Mars Facts:"
   ]
  },
  {
   "cell_type": "code",
   "execution_count": 113,
   "id": "c35ff2d5-4f9d-4c47-b6b9-822befdfcb59",
   "metadata": {},
   "outputs": [],
   "source": [
    "# Parse the resulting html with soup\n",
    "html = browser.html\n",
    "soup = bs(html, 'html.parser')\n",
    "\n",
    "href = soup.find('img', class_='headerimage')['src']\n",
    "featured_image_url = 'https://spaceimages-mars.com/' + href\n",
    "featured_image_url\n",
    "# Defide thr Url for table facts\n",
    "url = 'https://galaxyfacts-mars.com/'"
   ]
  },
  {
   "cell_type": "code",
   "execution_count": 114,
   "id": "b4de48a3-a40c-4cc6-8b11-e9b9b8391bea",
   "metadata": {},
   "outputs": [
    {
     "data": {
      "text/plain": [
       "[                         0                1                2\n",
       " 0  Mars - Earth Comparison             Mars            Earth\n",
       " 1                Diameter:         6,779 km        12,742 km\n",
       " 2                    Mass:  6.39 × 10^23 kg  5.97 × 10^24 kg\n",
       " 3                   Moons:                2                1\n",
       " 4       Distance from Sun:   227,943,824 km   149,598,262 km\n",
       " 5          Length of Year:   687 Earth days      365.24 days\n",
       " 6             Temperature:     -87 to -5 °C      -88 to 58°C,\n",
       "                       0                              1\n",
       " 0  Equatorial Diameter:                       6,792 km\n",
       " 1       Polar Diameter:                       6,752 km\n",
       " 2                 Mass:  6.39 × 10^23 kg (0.11 Earths)\n",
       " 3                Moons:          2 ( Phobos & Deimos )\n",
       " 4       Orbit Distance:       227,943,824 km (1.38 AU)\n",
       " 5         Orbit Period:           687 days (1.9 years)\n",
       " 6  Surface Temperature:                   -87 to -5 °C\n",
       " 7         First Record:              2nd millennium BC\n",
       " 8          Recorded By:           Egyptian astronomers]"
      ]
     },
     "execution_count": 114,
     "metadata": {},
     "output_type": "execute_result"
    }
   ],
   "source": [
    "# Find table data and load into pandas\n",
    "tables = pd.read_html(url)\n",
    "tables"
   ]
  },
  {
   "cell_type": "code",
   "execution_count": 115,
   "id": "e6de6890-8a9d-4cb8-b588-89f34f068168",
   "metadata": {},
   "outputs": [
    {
     "data": {
      "text/html": [
       "<div>\n",
       "<style scoped>\n",
       "    .dataframe tbody tr th:only-of-type {\n",
       "        vertical-align: middle;\n",
       "    }\n",
       "\n",
       "    .dataframe tbody tr th {\n",
       "        vertical-align: top;\n",
       "    }\n",
       "\n",
       "    .dataframe thead th {\n",
       "        text-align: right;\n",
       "    }\n",
       "</style>\n",
       "<table border=\"1\" class=\"dataframe\">\n",
       "  <thead>\n",
       "    <tr style=\"text-align: right;\">\n",
       "      <th></th>\n",
       "      <th>Mars</th>\n",
       "      <th>Earth</th>\n",
       "    </tr>\n",
       "    <tr>\n",
       "      <th>Mars - Earth Comparison</th>\n",
       "      <th></th>\n",
       "      <th></th>\n",
       "    </tr>\n",
       "  </thead>\n",
       "  <tbody>\n",
       "    <tr>\n",
       "      <th>Diameter:</th>\n",
       "      <td>6,779 km</td>\n",
       "      <td>12,742 km</td>\n",
       "    </tr>\n",
       "    <tr>\n",
       "      <th>Mass:</th>\n",
       "      <td>6.39 × 10^23 kg</td>\n",
       "      <td>5.97 × 10^24 kg</td>\n",
       "    </tr>\n",
       "    <tr>\n",
       "      <th>Moons:</th>\n",
       "      <td>2</td>\n",
       "      <td>1</td>\n",
       "    </tr>\n",
       "    <tr>\n",
       "      <th>Distance from Sun:</th>\n",
       "      <td>227,943,824 km</td>\n",
       "      <td>149,598,262 km</td>\n",
       "    </tr>\n",
       "    <tr>\n",
       "      <th>Length of Year:</th>\n",
       "      <td>687 Earth days</td>\n",
       "      <td>365.24 days</td>\n",
       "    </tr>\n",
       "    <tr>\n",
       "      <th>Temperature:</th>\n",
       "      <td>-87 to -5 °C</td>\n",
       "      <td>-88 to 58°C</td>\n",
       "    </tr>\n",
       "  </tbody>\n",
       "</table>\n",
       "</div>"
      ],
      "text/plain": [
       "                                    Mars            Earth\n",
       "Mars - Earth Comparison                                  \n",
       "Diameter:                       6,779 km        12,742 km\n",
       "Mass:                    6.39 × 10^23 kg  5.97 × 10^24 kg\n",
       "Moons:                                 2                1\n",
       "Distance from Sun:        227,943,824 km   149,598,262 km\n",
       "Length of Year:           687 Earth days      365.24 days\n",
       "Temperature:                -87 to -5 °C      -88 to 58°C"
      ]
     },
     "execution_count": 115,
     "metadata": {},
     "output_type": "execute_result"
    }
   ],
   "source": [
    "# Create a dataframe from the first table\n",
    "mars_earth_df = tables[0]\n",
    "mars_earth_df = mars_earth_df.rename(columns = mars_earth_df.iloc[0])\n",
    "mars_earth_df = mars_earth_df.set_index(\"Mars - Earth Comparison\")\n",
    "mars_earth_df = mars_earth_df.iloc[1:]\n",
    "mars_earth_df"
   ]
  },
  {
   "cell_type": "code",
   "execution_count": 116,
   "id": "46df3088-dfae-4951-9af4-c85ddcf0d50a",
   "metadata": {},
   "outputs": [
    {
     "data": {
      "text/plain": [
       "'<table border=\"1\" class=\"dataframe\">\\n  <thead>\\n    <tr style=\"text-align: right;\">\\n      <th></th>\\n      <th>Mars</th>\\n      <th>Earth</th>\\n    </tr>\\n    <tr>\\n      <th>Mars - Earth Comparison</th>\\n      <th></th>\\n      <th></th>\\n    </tr>\\n  </thead>\\n  <tbody>\\n    <tr>\\n      <th>Diameter:</th>\\n      <td>6,779 km</td>\\n      <td>12,742 km</td>\\n    </tr>\\n    <tr>\\n      <th>Mass:</th>\\n      <td>6.39 × 10^23 kg</td>\\n      <td>5.97 × 10^24 kg</td>\\n    </tr>\\n    <tr>\\n      <th>Moons:</th>\\n      <td>2</td>\\n      <td>1</td>\\n    </tr>\\n    <tr>\\n      <th>Distance from Sun:</th>\\n      <td>227,943,824 km</td>\\n      <td>149,598,262 km</td>\\n    </tr>\\n    <tr>\\n      <th>Length of Year:</th>\\n      <td>687 Earth days</td>\\n      <td>365.24 days</td>\\n    </tr>\\n    <tr>\\n      <th>Temperature:</th>\\n      <td>-87 to -5 °C</td>\\n      <td>-88 to 58°C</td>\\n    </tr>\\n  </tbody>\\n</table>'"
      ]
     },
     "execution_count": 116,
     "metadata": {},
     "output_type": "execute_result"
    }
   ],
   "source": [
    "# Create html table for mars facts\n",
    "mars_earth_df.to_html()"
   ]
  },
  {
   "cell_type": "markdown",
   "id": "5859e566-742a-421f-8f36-ad7a60559f03",
   "metadata": {},
   "source": [
    "# Mars Hemispheres:"
   ]
  },
  {
   "cell_type": "code",
   "execution_count": 122,
   "id": "197736a9-ea51-43d8-be35-5e808c4e512d",
   "metadata": {},
   "outputs": [],
   "source": [
    "# Defide the url and visit the website\n",
    "url = 'https://marshemispheres.com'\n",
    "browser.visit(url)"
   ]
  },
  {
   "cell_type": "code",
   "execution_count": 123,
   "id": "7f0cddaa-e19c-450c-85bd-a1f4e74237ab",
   "metadata": {},
   "outputs": [],
   "source": [
    "# Access the html and parse through it\n",
    "html = browser.html\n",
    "soup = bs(html, 'html.parser')\n",
    "    \n",
    "# Create a hemispheres list\n",
    "hemisphere_image_urls = []\n",
    "    \n",
    "# Get the 4 descriptions for the website - h3\n",
    "descriptions = soup.find_all('h3', limit=4)"
   ]
  },
  {
   "cell_type": "code",
   "execution_count": 124,
   "id": "070e7ad2-1b8a-4635-b08c-2f60623b8fda",
   "metadata": {},
   "outputs": [],
   "source": [
    "# Iterate through the descriptions\n",
    "for title in descriptions:\n",
    "            \n",
    "    # Click on the description to get the full image\n",
    "    browser.links.find_by_partial_text(title.text).click()\n",
    "            \n",
    "    # Create a new html browser query for the new page\n",
    "    html = browser.html\n",
    "    soup = bs(html, 'html.parser')\n",
    "            \n",
    "    # Find the downloads box\n",
    "    download = soup.find('div', class_='downloads')\n",
    "            \n",
    "    # Find the downloads list\n",
    "    img_list = download.find('li')\n",
    "            \n",
    "    # Get the first list object's href\n",
    "    img_url = img_list.a['href']\n",
    "    \n",
    "    # Create the full url for the image\n",
    "    img_url = url + img_url\n",
    "    \n",
    "    # Create a dictionary of the values\n",
    "    dictionary = {\n",
    "        \"title\": title.text,\n",
    "        \"img_url\": img_url\n",
    "        }\n",
    "    \n",
    "    # Append the dictionary to the hemispheres list\n",
    "    hemisphere_image_urls.append(dictionary) \n",
    "    \n",
    "    # Navigate back to the main page\n",
    "    browser.back()"
   ]
  },
  {
   "cell_type": "code",
   "execution_count": 125,
   "id": "3bb29191-53ed-4642-a8c0-9b20d18da7d5",
   "metadata": {},
   "outputs": [
    {
     "name": "stdout",
     "output_type": "stream",
     "text": [
      "[{'title': 'Cerberus Hemisphere Enhanced', 'img_url': 'https://marshemispheres.comimages/full.jpg'}, {'title': 'Schiaparelli Hemisphere Enhanced', 'img_url': 'https://marshemispheres.comimages/schiaparelli_enhanced-full.jpg'}, {'title': 'Syrtis Major Hemisphere Enhanced', 'img_url': 'https://marshemispheres.comimages/syrtis_major_enhanced-full.jpg'}, {'title': 'Valles Marineris Hemisphere Enhanced', 'img_url': 'https://marshemispheres.comimages/valles_marineris_enhanced-full.jpg'}]\n"
     ]
    }
   ],
   "source": [
    "print(hemisphere_image_urls)"
   ]
  },
  {
   "cell_type": "code",
   "execution_count": 126,
   "id": "86911087-9ce7-4df6-b641-f0703294590d",
   "metadata": {},
   "outputs": [],
   "source": [
    "# Stop automated browser to remain active and shutdown\n",
    "browser.quit()"
   ]
  }
 ],
 "metadata": {
  "kernelspec": {
   "display_name": "Python 3",
   "language": "python",
   "name": "python3"
  },
  "language_info": {
   "codemirror_mode": {
    "name": "ipython",
    "version": 3
   },
   "file_extension": ".py",
   "mimetype": "text/x-python",
   "name": "python",
   "nbconvert_exporter": "python",
   "pygments_lexer": "ipython3",
   "version": "3.8.8"
  }
 },
 "nbformat": 4,
 "nbformat_minor": 5
}
